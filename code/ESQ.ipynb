{
  "cells": [
    {
      "attachments": {},
      "cell_type": "markdown",
      "metadata": {
        "id": "Q8m9Kmwe_fhK"
      },
      "source": [
        "<center><img src='https://github.com/brenohmartins/Simulation-of-Electrical-Systems-by-Quadripoles/blob/main/images/logo.png?raw=true'/></center>\n",
        "\n",
        "<h1 align = 'center'> Trabalho de Circuitos Elétricos - II<h1/>\n",
        "<h2 align = 'center'> Simulação de Sistemas Elétricos por Quadripolos <h2\\>"
      ]
    },
    {
      "attachments": {},
      "cell_type": "markdown",
      "metadata": {
        "id": "Fcs5MIla_fhU"
      },
      "source": [
        "Este projeto se refere ao estudo sobre dimensionamento de filtros ativos, no qual o mesmo está salvo e disponível para consulta no seguinte [repositório](https://github.com/brenohmartins/Simulation-of-Electrical-Systems-by-Quadripoles).\n",
        "\n",
        "O projeto foi realizado pelos seguinte alunos de Engenharia Elétrica da UFCG:\n",
        "\n",
        "- Breno Henrique Martins Silva;\n",
        "- Caíque Moraes de Lima Mangabeira;\n",
        "- Emerson Matheus Lima da Silva\n",
        "- Marcos Eduardo Araújo  \n",
        "- Marcus Vinicius Almeida Filho\n",
        "\n",
        "---\n",
        "\n",
        "Utilizando dos conteúdos repassados nas aulas e também nos livros textos que se retratam sobre teoria de quadripolos, iremos utilizar a modelagem de dos componentes da seguinte forma:\n",
        "\n",
        "### Linha de Transmissão de modelo $\\pi$\n",
        "\n",
        "<center><img src='https://github.com/brenohmartins/Simulation-of-Electrical-Systems-by-Quadripoles/blob/main/images/linha.png?raw=true'/></center>\n",
        "\n",
        "Linhas de transmissão são estruturas físicas utilizadas para transportar energia elétrica de uma fonte (geradores) até os consumidores finais (residências, indústrias, etc.) através de longas distâncias. As principais carácteristicas das Linhas de Transmissão, que estão distribuidas por toda a linha, são a sua Impedância Característica $Z = R + jX_L$ que influência diretamente em como a energia é transmitida e distribuída ao longo da linha, e sua admitância $Y = jX_C$ a admitância é um fator importante que modela o efeito da capacitância e das perdas dielétricas em linhas de transmissão. Seu impacto é notado especialmente em linhas longas, onde contribui para a corrente reativa e pode afetar a regulação de tensão e o fluxo de potência em sistemas de transmissão e distribuição de energia elétrica.\n",
        "\n",
        "As Linhas de Transmissão de modelo $\\pi$ possuem um comprimento de 80 a 250 quilômetros, e para que possamos trabalhar com este modelo devemos concentrar seus parâmetro em uma equação matricial, no qual a tensão e corrente no final e início da linhas de transmissão possam ser determinadas, assim utilizamos a seguinte matriz para representar o modelo do tipo $\\pi$ para linhas de transmissão:\n",
        "\n",
        "$$\n",
        "\\begin{bmatrix}\n",
        "V_1\\\\\n",
        "I_1\n",
        "\\end{bmatrix} = \\begin{bmatrix}\n",
        "1 + \\frac{ZY}{2} & Z\\\\\n",
        "Y+\\frac{ZY^{2}}{4} & 1 + \\frac{ZY}{2}\n",
        "\\end{bmatrix} \\cdot \\begin{bmatrix}\n",
        "V_2\\\\\n",
        "I_2\n",
        "\\end{bmatrix}\n",
        "$$\n",
        "---"
      ]
    },
    {
      "attachments": {},
      "cell_type": "markdown",
      "metadata": {
        "id": "OhnxVfks_fhY"
      },
      "source": [
        "### Transformador\n",
        "\n",
        "<center><img src='https://github.com/brenohmartins/Simulation-of-Electrical-Systems-by-Quadripoles/blob/main/images/transformador.png?raw=true'/></center>\n",
        "\n",
        "Iremos utilizar um transformador de um sistema elétrico de potência com o modelo como mostrado acima, e assim como nas Linhas de Transmissão ele também possui uma matriz que representa a relação entre tensão e corrente nos seus terminais, utilizando o conceito de um transformador ideal temos que a sua matriz de transformação é da seguinte forma:\n",
        "\n",
        "$$\n",
        "\\begin{bmatrix}\n",
        "n & 0\\\\\n",
        "0 & \\frac{1}{n}\n",
        "\\end{bmatrix}\n",
        "$$\n",
        "\n",
        "Utilizando a matriz de transformação de um Transformador Ideal em conjunto com o modelo de matriz de uma linha de transmissão obteremos a seguinte matriz de transformação:\n",
        "\n",
        "$$\n",
        "\\begin{bmatrix}\n",
        "V_1\\\\\n",
        "I_1\n",
        "\\end{bmatrix} = \\begin{bmatrix}\n",
        "n(1+YZ_1) &\\frac{1}{n}(Z_1+Z_2+YZ_1Z_2) \\\\\n",
        "nY & \\frac{1}{n}(1+YZ_2)\n",
        "\\end{bmatrix}\\cdot \\begin{bmatrix}\n",
        "V_2\\\\\n",
        "I_2\n",
        "\\end{bmatrix}\n",
        "$$\n",
        "\n",
        "Em que:\n",
        "\n",
        "$$ Z_1 = R_1 + jX_{L_1}$$\n",
        "$$ Z_2 = R_2 + jX_{L_2}$$\n",
        "$$Y = \\frac{R_m + jX_m}{R_m \\cdot jX_m}$$\n",
        "\n",
        "---"
      ]
    },
    {
      "attachments": {},
      "cell_type": "markdown",
      "metadata": {
        "id": "g5h6upsr_fha"
      },
      "source": [
        "### Carga em Série\n",
        "\n",
        "A tensão e corrente nos terminais de uma carga colocada em série com o circuito é dada por:\n",
        "\n",
        "$$\\begin{bmatrix}\n",
        "V_1\\\\\n",
        "I_1\n",
        "\\end{bmatrix} = \\begin{bmatrix}\n",
        "1 &Z \\\\\n",
        "0 & 1\n",
        "\\end{bmatrix}\\cdot \\begin{bmatrix}\n",
        "V_2\\\\\n",
        "I_2\n",
        "\\end{bmatrix} $$\n",
        "\n",
        "---"
      ]
    },
    {
      "attachments": {},
      "cell_type": "markdown",
      "metadata": {
        "id": "YnVcTs9S_fha"
      },
      "source": [
        "### Carga em Paralelo\n",
        "\n",
        "A tensão e corrente nos terminais de uma carga colocada em paralelo com o circuito é dada por:\n",
        "\n",
        "$$ \\begin{bmatrix}\n",
        "V_1\\\\\n",
        "I_1\n",
        "\\end{bmatrix} = \\begin{bmatrix}\n",
        "1 &0 \\\\\n",
        "Y & 1\n",
        "\\end{bmatrix}\\cdot \\begin{bmatrix}\n",
        "V_2\\\\\n",
        "I_2\n",
        "\\end{bmatrix}$$\n",
        "\n",
        "---"
      ]
    },
    {
      "cell_type": "code",
      "execution_count": 856,
      "metadata": {
        "id": "7oLasXJe_fhb"
      },
      "outputs": [],
      "source": [
        "# Importando as Bibliotecas\n",
        "import numpy as np\n",
        "import cmath"
      ]
    },
    {
      "cell_type": "code",
      "execution_count": 857,
      "metadata": {
        "id": "nyElXdhK_fhf"
      },
      "outputs": [],
      "source": [
        "# Declaração de todas as funções:\n",
        "\n",
        "def MatrixSeriesImpedance(Z):                                   # Retorna a matriz referente a uma impedância em série.\n",
        "    return np.array([[1, Z], [0, 1]])\n",
        "\n",
        "def MarixShuntAdimitance(Y_C):                                  # Retorna a matriz referente a carga em derivação.\n",
        "    return np.array([[1, 0], [Y_C, 1]])\n",
        "\n",
        "def MatrixTCircuit(Z1, Z2, N, Ym, Tap=1):                              # Retorna a matriz referente ao Transfomador.\n",
        "    # Calculando a matriz a partir da multiplicação do circuito T com transformador ideal.\n",
        "    A = (N * Tap) * (1 + (Ym * Z1))\n",
        "    B = (1/(N * Tap)) * (Z1 + Z2 + (Ym * Z1 * Z2))\n",
        "    C = (N * Tap) * (Ym)\n",
        "    D = (1/(N * Tap)) * (1 + (Ym * Z2))\n",
        "\n",
        "    return np.array([[A, B], [C, D]])\n",
        "\n",
        "def MatrixRCircuit(Z, Y_L):                                     # Retorna a matriz referente a linha de transmissão.\n",
        "    A = (1 + ((Z * Y_L) / 2))\n",
        "    B = Z\n",
        "    C = (Y_L + ((Z * Y_L**2) / 4))\n",
        "    D = (1 + ((Z * Y_L) / 2))\n",
        "\n",
        "    return np.array([[A, B], [C, D]])\n",
        "\n",
        "def MatrizParallelCircuit(Matrix_1, Matrix_2):                  # Retorna a Matriz de associação em pararelo de dois circuitos.\n",
        "    A1, B1, C1, D1 = Matrix_1[0,0], Matrix_1[0,1], Matrix_1[1,0], Matrix_1[1,1]\n",
        "    A2, B2, C2, D2 = Matrix_2[0,0], Matrix_2[0,1], Matrix_2[1,0], Matrix_2[1,1]\n",
        "    # Calculando a matriz para circuitos paralelos.\n",
        "    A = (((A1 * B2) + (A2 * B1)) / (B1 + B2))\n",
        "    B = ((B1 * B2) / (B1 + B2))\n",
        "    C = (C1 + C2 + (((A1 - A2) * (D2 - D1)) / (B1 + B2)))\n",
        "    D = (((B2 * D1) + (B1 * D2)) / (B1 + B2))\n",
        "\n",
        "    return np.array([[A, B], [C, D]])\n",
        "\n",
        "def MatrizCascadeCircuits(matrix):\n",
        "    result = matrix[0]\n",
        "    for m in range(len(matrix) - 1):\n",
        "        result = np.dot(result, matrix[m+1])\n",
        "    return result\n",
        "\n",
        "# Tranformando em forma polar para pegar o fasorial.\n",
        "def fasor(v):\n",
        "    return f'{np.abs(v):.4f}∠{np.angle(v, deg=True):.4f}°'\n"
      ]
    },
    {
      "attachments": {},
      "cell_type": "markdown",
      "metadata": {
        "id": "-VuJu2oQ_fhj"
      },
      "source": [
        "### Questão 1\n",
        "\n",
        "<center><img src='https://github.com/brenohmartins/Simulation-of-Electrical-Systems-by-Quadripoles/blob/main/images/SEP.png?raw=true'/></center>\n",
        "\n",
        "Considerando o sistema elétrico da figura acima, no qual está operando com $60 \\text{hz}$, modele o sistema criando as matrizes de transferência $[T]$ a partir dos dados de entrada do modelo que está logo abaixo:\n",
        "\n",
        "**Impedância de Thévenin**\n",
        "- $ R_f = 4 \\Omega$;\n",
        "- $ Xf = 0.38 \\Omega$.\n",
        "\n",
        "**Parâmetros das Linhas de Transmissão**\n",
        "- $\\rho_R = 0.182 \\Omega/km$;\n",
        "- $\\rho_L = 2.28 mH/km$;\n",
        "- $\\rho_C = 0.0140 \\mu F/km$.\n",
        "\n",
        "Considere que as $LT_1 , LT_2 , LT_3$ possuem 100 km, a $LT_4$ e $LT_5$ possui 80km e a $LT_6$ possui 120 km.\n",
        "\n",
        "**Parâmetros comum dos Transformadores**\n",
        "- $R_1 = 7.6m \\Omega$;\n",
        "- $X_1 = 3.8m \\Omega$;\n",
        "- $R_2 = 33.9m \\Omega$;\n",
        "- $X_2 = 0.85m \\Omega$.\n",
        "\n",
        "**Parâmetros individuais dos Transformadores**\n",
        "- Para o Transformador 1:\n",
        "    - $R_{m_1} = 4320 \\Omega$ e $X_{m_1} = 5050 \\Omega$;\n",
        "- Para o Transformador 2:\n",
        "    - $R_{m_2} = 432000 \\Omega$ e $X_{m_2} = 505000 \\Omega$;\n",
        "- Para o Transformador 3:\n",
        "    - $R_{m_3} = 402000 \\Omega$ e $X_{m_3} = 607000 \\Omega$.\n",
        "\n",
        "**Cargas em Derivação**\n",
        "\n",
        "- $R_1 = 8400 \\Omega$ e $L_1 = 46H$;\n",
        "- $R_2 = 1175.55 \\Omega$ e $L_2 = 6.43H$;\n",
        "- $R_3 = 526 \\Omega$ e $L_3 = 2.9H$."
      ]
    },
    {
      "cell_type": "code",
      "execution_count": 858,
      "metadata": {
        "colab": {
          "base_uri": "https://localhost:8080/"
        },
        "id": "mDCgaVVS_fhl",
        "outputId": "e64d1eff-ef71-4f00-ba49-201bcdc86744"
      },
      "outputs": [
        {
          "name": "stdout",
          "output_type": "stream",
          "text": [
            "[[9.64085178e-01+0.16259615j 4.59932720e+00+9.09454221j]\n",
            " [3.01796834e-03+0.03667228j 7.19549147e-01+0.08206635j]]\n"
          ]
        }
      ],
      "source": [
        "# Declaração das variáveis e chamando as funções:\n",
        "\n",
        "w = 2 * np.pi * 60                  # Declaração do nosso omega.\n",
        "\n",
        "# Declaração da Impedância de Thevenin.\n",
        "Rf, Xf = 4, 0.38j\n",
        "Zf = Rf + Xf\n",
        "mImpedances = MatrixSeriesImpedance(Zf)\n",
        "\n",
        "# Parametros comum aos transformadores:\n",
        "R1 = 7.6e-3\n",
        "X1 = 3.8e-3\n",
        "R2 = 33.9e-3\n",
        "X2 = 0.85e-3\n",
        "\n",
        "ZT1 = R1 + (X1 * 1j)\n",
        "ZT2 = R2 + (X2 * 1j)\n",
        "\n",
        "# Declaração do Transformador 1:\n",
        "Rm1 = 4320\n",
        "Xm1 = 5050j\n",
        "N1 = 69/500\n",
        "Y_T1 = ((Rm1 + Xm1) / (Rm1 * Xm1))\n",
        "mT1 = MatrixTCircuit(ZT1, ZT2, N1, Y_T1, 1)\n",
        "\n",
        "# Parametros comum para as linhas de transmissão :\n",
        "RLT = 0.182\n",
        "LLT = w * 2.28e-3 * 1j\n",
        "CLT = w * 0.0140e-6 * 1j\n",
        "ZLT = (RLT + (LLT))\n",
        "Y_L = CLT/2\n",
        "\n",
        "# Parametros da linha de transmissão LT1, LT2.\n",
        "d1 = 100 #km - Distanciamento das linhas de transmissão.\n",
        "mLT1 = MatrixRCircuit(ZLT*d1, Y_L*d1)\n",
        "mLT2 = MatrixRCircuit(ZLT*d1, Y_L*d1)\n",
        "\n",
        "# Parametros da carga Z1.\n",
        "RC1 = 8400\n",
        "LC1 = 46\n",
        "Y1 = (1 / (RC1 + (LC1 * w * 1j)))\n",
        "mZ1 = MarixShuntAdimitance(Y1)\n",
        "\n",
        "# Parametros da linha de transmissão LT3.\n",
        "mLT3 = MatrixRCircuit(ZLT*d1, Y_L*d1)\n",
        "\n",
        "# Declaração do Transformador 2:\n",
        "Rm2 = 432000\n",
        "Xm2 = 505000j\n",
        "N2 = 500/230\n",
        "Y_T2 = ((Rm2 + Xm2) / (Rm2 * Xm2))\n",
        "mT2 = MatrixTCircuit(ZT1, ZT2, N2, Y_T2, 1)\n",
        "\n",
        "# Parametros da carga Z2.\n",
        "RC2 = 1175.55\n",
        "LC2 = 6.43\n",
        "Y2 = (1 / (RC2 + (LC2 * w * 1j)))\n",
        "mZ2 = MarixShuntAdimitance(Y2)\n",
        "\n",
        "# Parametros da linha de transmissão LT4\n",
        "d2 = 80 #km - Distanciamento das linhas de transmissão.\n",
        "mLT4 = MatrixRCircuit(ZLT*d2, Y_L*d2)\n",
        "\n",
        "# Declaração do Transformador 3:\n",
        "Rm3 = 402000\n",
        "Xm3 = 607000j\n",
        "N3 = 230/69\n",
        "Y_T3 = ((Rm3 + Xm3) / (Rm3 * Xm3))\n",
        "mT3 = MatrixTCircuit(ZT1, ZT2, N3, Y_T3, 1)\n",
        "\n",
        "# Parametros da carga Z3.\n",
        "RC3 = 529\n",
        "LC3 = 2.9\n",
        "Y3 = (1 / (RC3 + (LC3 * w * 1j)))\n",
        "mZ3 = MarixShuntAdimitance(Y3)\n",
        "\n",
        "# Associação em pararelo das linhas de Transmissão LT1 e LT2:\n",
        "mLT1T2 = MatrizParallelCircuit(mLT1, mLT1)\n",
        "\n",
        "# Calculando a matriz de tranferência total do circuito:\n",
        "mTotal = np.array([mImpedances, mT1, mLT1T2, mZ1, mLT3, mT2, mZ2, mLT4, mT3])\n",
        "\n",
        "totalM = MatrizCascadeCircuits(mTotal)\n",
        "\n",
        "print(totalM)"
      ]
    },
    {
      "attachments": {},
      "cell_type": "markdown",
      "metadata": {
        "id": "rnZ0FxfH_fhn"
      },
      "source": [
        "## Montagem no Ambiente virtual - *LTSpice*\n",
        "\n",
        "Fazendo uso do modelo apresentado anteriormente para os elementos do sistema de potência, utilizando o simulador *LTSpice* para simular todo o sistema e tornar-se possível a comparação com resultados encontrados na modelagem utilizando a linguagem de programação *Python*.\n",
        "\n",
        "<center><img src='https://github.com/brenohmartins/Simulation-of-Electrical-Systems-by-Quadripoles/blob/main/images/circuit-simulation.png?raw=true'/></center>\n",
        "\n",
        "Para realizar a montagem do modelo ideal de um transformador no simulador foi utilizado a função *\"SPICE Directive\"* na qual simula funções matemáticas em favor de alguns elementos existêntes no circuito, sendo assim utilizado para fazer com que os indutores dos transformadores estejam devidamente acoplados. Logo em seguida está o modelo de um transformador ideal montado no simulador *LTSpice* seguindo o modelo de transformado especificado anteriormente.\n",
        "\n",
        "<center><img src='https://github.com/brenohmartins/Simulation-of-Electrical-Systems-by-Quadripoles/blob/main/images/simulated-transformer.png?raw=true'/></center>\n",
        "\n",
        "Com todos as implementações realizadas no simulador, a modelagem do sistema por quadripolos aprensentou resultados similar a análise por elementos de circuito simulados no *LTSpice*."
      ]
    },
    {
      "attachments": {},
      "cell_type": "markdown",
      "metadata": {
        "id": "MwXTRezF_fhp"
      },
      "source": [
        "### Item 1\n",
        "\n",
        "Obtenha a tensão fasorial de saída $V_{ac}$ e a corrente fasorial na carga $Z_3$ considerando que a tensão no gerador seja de $69 kV_{RMS}$.\n",
        "\n",
        "$R$: Nos quadripolos, a relação entre a tensão e corrente de entrada (lado da fonte) e de saída (lado da carga) é dada por:\n",
        "\n",
        "$$\\begin{bmatrix}\n",
        "V_{fonte}\\\\\n",
        "I_{fonte}\n",
        "\\end{bmatrix} = \\begin{bmatrix}\n",
        "A & B \\\\\n",
        "C & D\n",
        "\\end{bmatrix}\\cdot \\begin{bmatrix}\n",
        "V_{carga}\\\\\n",
        "I_{carga}\n",
        "\\end{bmatrix} $$\n",
        "\n",
        "\n",
        "Sabemos que a corrente e a tensão em ($Z_3$) estão relacionadas por sua **impedância**:\n",
        "\n",
        "$$ I_3 = \\frac{V_3}{Z_3}$$\n",
        "\n",
        "Substituindo $I_3 = \\frac{V_3}{Z_3}$ na equação do quadripolo:\n",
        "\n",
        "$$ V_1 = A \\cdot V_3 + B \\cdot \\frac{V_3}{Z_3} $$\n",
        "\n",
        "Isolando $(V_{3})$:   $$V_3 = \\frac{V_1 \\cdot Z_3}{A \\cdot Z_3 + B} $$"
      ]
    },
    {
      "cell_type": "code",
      "execution_count": 859,
      "metadata": {
        "colab": {
          "base_uri": "https://localhost:8080/"
        },
        "id": "gdzNuJlS_fhp",
        "outputId": "f4ac7dde-900b-4875-a467-59d23e7e14fd"
      },
      "outputs": [
        {
          "name": "stdout",
          "output_type": "stream",
          "text": [
            "A tensão Vac é igual a 69000.0000∠0.0000° V\n",
            "\n",
            "Tensão e Corrrente Fasorial na Carga Z3: \n",
            "• VZ3 = 69983.2641∠-9.4835° V\n",
            "• IZ3 = 57.6216∠-73.6627° A\n"
          ]
        }
      ],
      "source": [
        "# A,B,C,D são os elementos da matriz de transferência total.\n",
        "mA = totalM[0, 0]\n",
        "mB = totalM[0, 1]\n",
        "mC = totalM[1, 0]\n",
        "mD = totalM[1, 1]\n",
        "\n",
        "Vac = 69e3\n",
        "Z3 = 1/Y3\n",
        "VZ3 = (Vac * Z3) / ((mA * Z3) + mB)\n",
        "IZ3 = VZ3/Z3\n",
        "\n",
        "print(f'A tensão Vac é igual a {fasor(Vac)} V')\n",
        "print(f'\\nTensão e Corrrente Fasorial na Carga Z3: \\n• VZ3 = {fasor(VZ3)} V\\n• IZ3 = {fasor(IZ3)} A')"
      ]
    },
    {
      "attachments": {},
      "cell_type": "markdown",
      "metadata": {
        "id": "kq45EU43_fhr"
      },
      "source": [
        "### Item 2\n",
        "\n",
        "Obtenha a tensão e a corrente fasoriais nas impedâncias $Z_1$ e $Z_2$.\n",
        "\n",
        "$R$: Vamos usar a matriz de transferência total até as cargas que inclui as linhas de transmissão, transformadores e as impedâncias:\n",
        "\n",
        "\n",
        "$$\\begin{bmatrix}\n",
        "V_{fonte}\\\\\n",
        "I_{fonte}\n",
        "\\end{bmatrix} = \\begin{bmatrix}\n",
        "A & B \\\\\n",
        "C & D\n",
        "\\end{bmatrix}\\cdot \\begin{bmatrix}\n",
        "VZ\\\\\n",
        "IZ\n",
        "\\end{bmatrix} $$"
      ]
    },
    {
      "cell_type": "code",
      "execution_count": 860,
      "metadata": {
        "colab": {
          "base_uri": "https://localhost:8080/"
        },
        "id": "JeLKpi3F_fhr",
        "outputId": "4bbeae4c-e94a-4a7a-cb9c-1bed911b64b9"
      },
      "outputs": [
        {
          "name": "stdout",
          "output_type": "stream",
          "text": [
            "Tensão e Corrrente Fasoriais na Carga Z1: \n",
            "• V1 = 503864.0580∠-6.0320° V\n",
            "• I1 = 26.1491∠-70.1872° A\n"
          ]
        }
      ],
      "source": [
        "# Calculando os valores de tensão e corrente de Z1:\n",
        "mtotal = np.array([mImpedances, mT1, mLT1T2])\n",
        "mTZ1 = MatrizCascadeCircuits(mtotal)\n",
        "\n",
        "Z1 = 1 / Y1\n",
        "\n",
        "VZ1 = (Z1 * Vac) / (mTZ1[0, 0] * Z1 + mTZ1[0, 1])\n",
        "\n",
        "IZ1 = VZ1 / Z1\n",
        "\n",
        "print(f'Tensão e Corrrente Fasoriais na Carga Z1: \\n• V1 = {fasor(VZ1)} V\\n• I1 = {fasor(IZ1)} A')"
      ]
    },
    {
      "cell_type": "code",
      "execution_count": 861,
      "metadata": {
        "colab": {
          "base_uri": "https://localhost:8080/"
        },
        "id": "XBjfHubjWVoB",
        "outputId": "ea79b8e6-0ad7-4f13-a61b-645458d2957c"
      },
      "outputs": [
        {
          "name": "stdout",
          "output_type": "stream",
          "text": [
            "Tensão e Corrrente Fasoriais na Carga Z2: \n",
            "• V2 = 232428.2312∠-8.8363° V\n",
            "• I2 = 86.2744∠-72.9651° A\n"
          ]
        }
      ],
      "source": [
        "# Calculando os valores de tensão e corrente de Z2:\n",
        "mtotal = np.array([mImpedances, mT1, mLT1T2, mZ1, mLT3, mT2])\n",
        "mTZ2 = MatrizCascadeCircuits(mtotal)\n",
        "\n",
        "Z2 = 1 / Y2\n",
        "\n",
        "VZ2 = (Vac * Z2) / (mTZ2[0, 0] * Z2 + mTZ2[0, 1])\n",
        "\n",
        "IZ2 = VZ2 / Z2\n",
        "\n",
        "print(f'Tensão e Corrrente Fasoriais na Carga Z2: \\n• V2 = {fasor(VZ2)} V\\n• I2 = {fasor(IZ2)} A')"
      ]
    },
    {
      "attachments": {},
      "cell_type": "markdown",
      "metadata": {
        "id": "0lhjElTr_fhs"
      },
      "source": [
        "### Item 3\n",
        "\n",
        "Obtenha a potência $Ativa$ e $Reativa$ fornecida pelo Gerador.\n",
        "\n",
        "$R$: A potência ativa refere-se à energia útil, enquanto a potência reativa está associada ao armazenamento temporário de energia nos componentes reativos (indutâncias e capacitâncias).\n",
        "\n",
        "A relação entre potência ativa, reativa e aparente é descrita pelo triângulo de potência:\n",
        "$$ S^2 = P^2 + Q^2 $$\n",
        "\n",
        "E utlizando deste conhecimento e também dos valores ja calculados anteriormente podemos encontrar a nossa *Potência Complexa* e extrair os valores da *Potencia Ativa e Reativa*, utilizando das seguintes equações:\n",
        "\n",
        "$$ S_{complexo} = V_{RMS} \\cdot \\overline{I_{RMS}}  $$"
      ]
    },
    {
      "cell_type": "code",
      "execution_count": 862,
      "metadata": {
        "colab": {
          "base_uri": "https://localhost:8080/"
        },
        "id": "DE710_x0_fhs",
        "outputId": "70baff33-78d3-43c5-df2d-9d8fb42dd205"
      },
      "outputs": [
        {
          "name": "stdout",
          "output_type": "stream",
          "text": [
            "A Potência Ativa no gerador é: 175393.3840 kW \n",
            "Potência Reativa é: -90.6163 kVAr\n"
          ]
        }
      ],
      "source": [
        "# Calculando a corrente do gerador:\n",
        "Iac = (mC * VZ3) + (mD * IZ3)\n",
        "\n",
        "Vac = (mA * VZ3) + (mB * IZ3)\n",
        "absIac, angIac =  cmath.polar(Iac)\n",
        "\n",
        "# Calculando a potencia Ativa e Reativa:\n",
        "Sg = Vac * (complex(absIac, - angIac))\n",
        "Pg = Sg.real / pow(10,3)\n",
        "Qg = Sg.imag / pow(10,3) \n",
        "\n",
        "print(f\"A Potência Ativa no gerador é: {Pg:.4f} kW \\nPotência Reativa é: {Qg:.4f} kVAr\")"
      ]
    },
    {
      "attachments": {},
      "cell_type": "markdown",
      "metadata": {
        "id": "4rM2VW5o_fht"
      },
      "source": [
        "### Item 4\n",
        "\n",
        "Obtenha a potência $Ativa$ e $Reativa$ consumida pelas cargas.\n",
        "\n",
        "$R$: A potência ativa refere-se à energia útil, enquanto a potência reativa está associada ao armazenamento temporário de energia nos componentes reativos (indutâncias e capacitâncias).\n",
        "\n",
        "A relação entre potência ativa, reativa e aparente é descrita pelo triângulo de potência:\n",
        "$$ S² = P² + Q² $$\n",
        "\n",
        "Assim da mesma forma como no item aterior também podemos fazer uso da equação do $S_{complexo} = V_{RMS} \\cdot \\overline{I_{RMS}}$ para que possamos calcular as *Potências Ativas e Reativas* das cargas $Z_1 , Z_2$ e $Z_3$"
      ]
    },
    {
      "cell_type": "code",
      "execution_count": 863,
      "metadata": {},
      "outputs": [
        {
          "name": "stdout",
          "output_type": "stream",
          "text": [
            "A Potência Ativa na Carga Z1 é de 5743.7015 kW e a Potência Reativa é igual a 11857.7292 kVAr\n",
            "A Potência Ativa na Carga Z2 é de 8749.9360 kW e a Potência Reativa é igual a 18042.8800 kVAr\n",
            "A Potência Ativa na Carga Z3 é de 1756.4091 kW e a Potência Reativa é igual a 3629.9372 kVAr\n"
          ]
        }
      ],
      "source": [
        "# Calculando a potência complexa das Cargas Z1, Z2 e Z3\n",
        "\n",
        "sZ1 = VZ1 * np.conj(IZ1) \n",
        "sZ2 = VZ2 * np.conj(IZ2)\n",
        "sZ3 = VZ3 * np.conj(IZ3)\n",
        "\n",
        "# Extraindo os valores da Potência Ativa das Cargas\n",
        "\n",
        "pZ1 = sZ1.real / pow(10,3)\n",
        "pZ2 = sZ2.real / pow(10,3)\n",
        "pZ3 = sZ3.real / pow(10,3)\n",
        "\n",
        "# Extraindo os valores da Potência Reativa das Cargas\n",
        "\n",
        "qZ1 = sZ1.imag / pow(10,3)\n",
        "qZ2 = sZ2.imag / pow(10,3)\n",
        "qZ3 = sZ3.imag / pow(10,3)\n",
        " \n",
        "print(f'A Potência Ativa na Carga Z1 é de {pZ1:.4f} kW e a Potência Reativa é igual a {qZ1:.4f} kVAr')\n",
        "print(f'A Potência Ativa na Carga Z2 é de {pZ2:.4f} kW e a Potência Reativa é igual a {qZ2:.4f} kVAr')\n",
        "print(f'A Potência Ativa na Carga Z3 é de {pZ3:.4f} kW e a Potência Reativa é igual a {qZ3:.4f} kVAr')"
      ]
    },
    {
      "cell_type": "markdown",
      "metadata": {},
      "source": [
        "### Item 5\n",
        "\n",
        "Calcule a perda de *Potência Ativa* e *Reativa* no sistema.\n",
        "\n",
        "Para calcular a perda de potência do sistema realizamos a soma de todas as potências das cargas encontradas anteriormente e subtraímos da potência complexa do gerador assim como representa as equações abaixo:\n",
        "\n",
        "$$\n",
        "\n",
        "S_{perda} = S_{gerador} - (S_{Z_{1}} + S_{Z_2} + S_{Z_3})\n",
        "\n",
        "$$"
      ]
    },
    {
      "cell_type": "code",
      "execution_count": 864,
      "metadata": {},
      "outputs": [
        {
          "name": "stdout",
          "output_type": "stream",
          "text": [
            "A perca de Potência Ativa no sistema é de 159.1433 MW \n",
            "E a perca de Potência Reativa no sistema é de -33.6212 MVAr\n"
          ]
        }
      ],
      "source": [
        "# potencia total da cargas\n",
        "\n",
        "S_total_cargas = sZ1 + sZ2 + sZ3\n",
        "\n",
        "#perda de potencia Ativa e Reativa no sistema.\n",
        "\n",
        "S_perda = (Sg - S_total_cargas)\n",
        "\n",
        "perdaP = S_perda.real / pow(10,6)\n",
        "perdaQ = S_perda.imag / pow(10,6)\n",
        "\n",
        "print(f'A perca de Potência Ativa no sistema é de {perdaP:.4f} MW \\nE a perca de Potência Reativa no sistema é de {perdaQ:.4f} MVAr')"
      ]
    },
    {
      "cell_type": "markdown",
      "metadata": {},
      "source": [
        "### Item 6 \n",
        "\n",
        "Qual é o ajuste do TAP dos transformadores $T_1$, $T_2$ e $T_3$ para que as tensões nas cargas sejam, respectivamente, 500 kV, 230 kV e 69 kV.\n",
        "\n",
        "O *TAP*, Tomada de Ajuste de Potência, que é uma característica de transformadores que permite ajustar a relação de transformação, no qual altera a tensão do lado secundário sem precisar desligar o transformador. Dessa forma utilizamos as equações ja demonstradas anteriormente para refazer os cálculos das tensões das cargas que estão em nosso sitema ja com o valor reajustado utilizando o TAP, a fim de que retorne o valor mais aproximado o possível do que é requerido."
      ]
    },
    {
      "cell_type": "code",
      "execution_count": 865,
      "metadata": {},
      "outputs": [
        {
          "name": "stdout",
          "output_type": "stream",
          "text": [
            "VZ1 = 500000.0006 ∠ -5.9411° V\n",
            "VZ2 = 230000.0012 ∠ -8.7150° V\n",
            "VZ3 = 69000.0014 ∠ -9.3546° V\n"
          ]
        }
      ],
      "source": [
        "MT1adj = MatrixTCircuit(ZT1, ZT2, N1, Y_T1, 1.00781657)\n",
        "MT2adj = MatrixTCircuit(ZT1, ZT2, N2, Y_T2, 1.00313564)\n",
        "MT3adj = MatrixTCircuit(ZT1, ZT2, N3, Y_T3, 1.0037527)\n",
        "V1 = 69E3\n",
        "\n",
        "#Calculando VZ1 depois do ajuste\n",
        "M_Z1adj = np.array([mImpedances, MT1adj, mLT1T2])\n",
        "MF_Z1adj = MatrizCascadeCircuits(M_Z1adj)\n",
        "\n",
        "VZ1adj =  (Z1 * Vac) / (MF_Z1adj[0, 0]*Z1 + MF_Z1adj[0, 1])\n",
        "\n",
        "absV1adj, angV1adj =  cmath.polar(VZ1adj)\n",
        "angV1adj = np.rad2deg(angV1adj)\n",
        "\n",
        "print(f\"VZ1 = {absV1adj:.4f} ∠ {angV1adj:.4f}° V\")\n",
        "\n",
        "#Calculando VZ2 depois do ajuste\n",
        "M_Z2adj = np.array([mImpedances, MT1adj, mLT1T2, mZ1, mLT3, MT2adj])\n",
        "MF_Z2adj = MatrizCascadeCircuits(M_Z2adj)\n",
        "\n",
        "VZ2 = (V1*Z2) / (MF_Z2adj[0, 0]*Z2 + MF_Z2adj[0, 1])\n",
        "\n",
        "absV2, angV2 =  cmath.polar(VZ2)\n",
        "angV2 = np.rad2deg(angV2)\n",
        "\n",
        "print(f\"VZ2 = {absV2:.4f} ∠ {angV2:.4f}° V\")\n",
        "\n",
        "#Calculando VZ3 depois do ajuste\n",
        "M_Z1adj = np.array([mImpedances, MT1adj, mLT1T2, mZ1, mLT3, MT2adj, mZ2, mLT4, MT3adj])\n",
        "MF_Z3adj = MatrizCascadeCircuits(M_Z1adj)\n",
        "\n",
        "A = MF_Z3adj[0, 0]\n",
        "B = MF_Z3adj[0, 1]\n",
        "C = MF_Z3adj[1, 0]\n",
        "D = MF_Z3adj[1, 1]\n",
        "\n",
        "\n",
        "Z3 = 1/Y3\n",
        "VZ3 = (V1 * Z3) / (A*Z3 + B)\n",
        "I3 = VZ3/Z3\n",
        "\n",
        "absV3, angV3 =  cmath.polar(VZ3)\n",
        "angV3 = np.rad2deg(angV3)\n",
        "\n",
        "print(f\"VZ3 = {absV3:.4f} ∠ {angV3:.4f}° V\")"
      ]
    }
  ],
  "metadata": {
    "colab": {
      "provenance": [],
      "toc_visible": true
    },
    "kernelspec": {
      "display_name": "Python 3",
      "language": "python",
      "name": "python3"
    },
    "language_info": {
      "codemirror_mode": {
        "name": "ipython",
        "version": 3
      },
      "file_extension": ".py",
      "mimetype": "text/x-python",
      "name": "python",
      "nbconvert_exporter": "python",
      "pygments_lexer": "ipython3",
      "version": "3.12.4"
    }
  },
  "nbformat": 4,
  "nbformat_minor": 0
}
