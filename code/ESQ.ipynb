{
 "cells": [
  {
   "cell_type": "markdown",
   "metadata": {},
   "source": [
    "<center><img src='https://github.com/brenohmartins/Simulation-of-Electrical-Systems-by-Quadripoles/blob/main/images/logo.png?raw=true'/></center>\n",
    "\n",
    "<h1 align = 'center'> Trabalho de Circuitos Elétricos - II<h1/>\n",
    "<h2 align = 'center'> Simulação de Sistemas Elétricos por Quadripolos <h2\\>"
   ]
  },
  {
   "cell_type": "markdown",
   "metadata": {},
   "source": [
    "Este projeto se refere ao estudo sobre dimensionamento de filtros ativos, no qual o mesmo está salvo e disponível para consulta no seguinte [repositório](https://github.com/brenohmartins/Simulation-of-Electrical-Systems-by-Quadripoles).\n",
    "\n",
    "O projeto foi realizado pelos seguinte alunos de Engenharia Elétrica da UFCG:\n",
    "\n",
    "- Breno Henrique Martins Silva;\n",
    "- Caíque Moraes de Lima Mangabeira;\n",
    "- Emerson Matheus Lima da Silva\n",
    "- Marcos Eduardo Araújo  \n",
    "- Marcus Vinicius Almeida Filho"
   ]
  }
 ],
 "metadata": {
  "language_info": {
   "name": "python"
  }
 },
 "nbformat": 4,
 "nbformat_minor": 2
}
