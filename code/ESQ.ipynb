{
  "cells": [
    {
      "cell_type": "markdown",
      "metadata": {
        "id": "Q8m9Kmwe_fhK"
      },
      "source": [
        "<center><img src='https://github.com/brenohmartins/Simulation-of-Electrical-Systems-by-Quadripoles/blob/main/images/logo.png?raw=true'/></center>\n",
        "\n",
        "<h1 align = 'center'> Trabalho de Circuitos Elétricos - II<h1/>\n",
        "<h2 align = 'center'> Simulação de Sistemas Elétricos por Quadripolos <h2\\>"
      ]
    },
    {
      "cell_type": "markdown",
      "metadata": {
        "id": "Fcs5MIla_fhU"
      },
      "source": [
        "Este projeto se refere ao estudo sobre dimensionamento de filtros ativos, no qual o mesmo está salvo e disponível para consulta no seguinte [repositório](https://github.com/brenohmartins/Simulation-of-Electrical-Systems-by-Quadripoles).\n",
        "\n",
        "O projeto foi realizado pelos seguinte alunos de Engenharia Elétrica da UFCG:\n",
        "\n",
        "- Breno Henrique Martins Silva;\n",
        "- Caíque Moraes de Lima Mangabeira;\n",
        "- Emerson Matheus Lima da Silva\n",
        "- Marcos Eduardo Araújo  \n",
        "- Marcus Vinicius Almeida Filho\n",
        "\n",
        "---\n",
        "\n",
        "Utilizando dos conteúdos repassados nas aulas e também nos livros textos que se retratam sobre teoria de quadripolos, iremos utilizar a modelagem de dos componentes da seguinte forma:\n",
        "\n",
        "### Linha de Transmissão de modelo $\\pi$\n",
        "\n",
        "<center><img src='https://github.com/brenohmartins/Simulation-of-Electrical-Systems-by-Quadripoles/blob/main/images/linha.png?raw=true'/></center>\n",
        "\n",
        "Linhas de transmissão são estruturas físicas utilizadas para transportar energia elétrica de uma fonte (geradores) até os consumidores finais (residências, indústrias, etc.) através de longas distâncias. As principais carácteristicas das Linhas de Transmissão, que estão distribuidas por toda a linha, são a sua Impedância Característica $Z = R + jX_L$ que influência diretamente em como a energia é transmitida e distribuída ao longo da linha, e sua admitância $Y = jX_C$ a admitância é um fator importante que modela o efeito da capacitância e das perdas dielétricas em linhas de transmissão. Seu impacto é notado especialmente em linhas longas, onde contribui para a corrente reativa e pode afetar a regulação de tensão e o fluxo de potência em sistemas de transmissão e distribuição de energia elétrica.\n",
        "\n",
        "As Linhas de Transmissão de modelo $\\pi$ possuem um comprimento de 80 a 250 quilômetros, e para que possamos trabalhar com este modelo devemos concentrar seus parâmetro em uma equação matricial, no qual a tensão e corrente no final e início da linhas de transmissão possam ser determinadas, assim utilizamos a seguinte matriz para representar o modelo do tipo $\\pi$ para linhas de transmissão:\n",
        "\n",
        "$$\n",
        "\\begin{bmatrix}\n",
        "V_1\\\\\n",
        "I_1\n",
        "\\end{bmatrix} = \\begin{bmatrix}\n",
        "1 + \\frac{ZY}{2} & Z\\\\\n",
        "Y+\\frac{ZY^{2}}{4} & 1 + \\frac{ZY}{2}\n",
        "\\end{bmatrix} \\cdot \\begin{bmatrix}\n",
        "V_2\\\\\n",
        "I_2\n",
        "\\end{bmatrix}\n",
        "$$\n",
        "---"
      ]
    },
    {
      "cell_type": "markdown",
      "metadata": {
        "id": "OhnxVfks_fhY"
      },
      "source": [
        "### Transformador\n",
        "\n",
        "<center><img src='https://github.com/brenohmartins/Simulation-of-Electrical-Systems-by-Quadripoles/blob/main/images/transformador.png?raw=true'/></center>\n",
        "\n",
        "Iremos utilizar um transformador de um sistema elétrico de potência com o modelo como mostrado acima, e assim como nas Linhas de Transmissão ele também possui uma matriz que representa a relação entre tensão e corrente nos seus terminais, utilizando o conceito de um transformador ideal temos que a sua matriz de transformação é da seguinte forma:\n",
        "\n",
        "$$\n",
        "\\begin{bmatrix}\n",
        "n & 0\\\\\n",
        "0 & \\frac{1}{n}\n",
        "\\end{bmatrix}\n",
        "$$\n",
        "\n",
        "Utilizando a matriz de transformação de um Transformador Ideal em conjunto com o modelo de matriz de uma linha de transmissão obteremos a seguinte matriz de transformação:\n",
        "\n",
        "$$\n",
        "\\begin{bmatrix}\n",
        "V_1\\\\\n",
        "I_1\n",
        "\\end{bmatrix} = \\begin{bmatrix}\n",
        "n(1+YZ_1) &\\frac{1}{n}(Z_1+Z_2+YZ_1Z_2) \\\\\n",
        "nY & \\frac{1}{n}(1+YZ_2)\n",
        "\\end{bmatrix}\\cdot \\begin{bmatrix}\n",
        "V_2\\\\\n",
        "I_2\n",
        "\\end{bmatrix}\n",
        "$$\n",
        "\n",
        "Em que:\n",
        "\n",
        "$$ Z_1 = R_1 + jX_{L_1}$$\n",
        "$$ Z_2 = R_2 + jX_{L_2}$$\n",
        "$$Y = \\frac{R_m + jX_m}{R_m \\cdot jX_m}$$\n",
        "\n",
        "---"
      ]
    },
    {
      "cell_type": "markdown",
      "metadata": {
        "id": "g5h6upsr_fha"
      },
      "source": [
        "### Carga em Série\n",
        "\n",
        "A tensão e corrente nos terminais de uma carga colocada em série com o circuito é dada por:\n",
        "\n",
        "$$\\begin{bmatrix}\n",
        "V_1\\\\\n",
        "I_1\n",
        "\\end{bmatrix} = \\begin{bmatrix}\n",
        "1 &Z \\\\\n",
        "0 & 1\n",
        "\\end{bmatrix}\\cdot \\begin{bmatrix}\n",
        "V_2\\\\\n",
        "I_2\n",
        "\\end{bmatrix} $$\n",
        "\n",
        "---"
      ]
    },
    {
      "cell_type": "markdown",
      "metadata": {
        "id": "YnVcTs9S_fha"
      },
      "source": [
        "### Carga em Paralelo\n",
        "\n",
        "A tensão e corrente nos terminais de uma carga colocada em paralelo com o circuito é dada por:\n",
        "\n",
        "$$ \\begin{bmatrix}\n",
        "V_1\\\\\n",
        "I_1\n",
        "\\end{bmatrix} = \\begin{bmatrix}\n",
        "1 &0 \\\\\n",
        "Y & 1\n",
        "\\end{bmatrix}\\cdot \\begin{bmatrix}\n",
        "V_2\\\\\n",
        "I_2\n",
        "\\end{bmatrix}$$\n",
        "\n",
        "---"
      ]
    },
    {
      "cell_type": "code",
      "execution_count": 30,
      "metadata": {
        "id": "7oLasXJe_fhb"
      },
      "outputs": [],
      "source": [
        "# Importando as Bibliotecas\n",
        "import numpy as np\n",
        "import cmath"
      ]
    },
    {
      "cell_type": "code",
      "execution_count": 31,
      "metadata": {
        "id": "nyElXdhK_fhf"
      },
      "outputs": [],
      "source": [
        "# Declaração de todas as funções:\n",
        "\n",
        "def MatrixSeriesImpedance(Z):                                   # Retorna a matriz referente a uma impedância em série.\n",
        "    return np.array([[1, Z], [0, 1]])\n",
        "\n",
        "def MarixShuntAdimitance(Y_C):                                  # Retorna a matriz referente a carga em derivação.\n",
        "    return np.array([[1, 0], [Y_C, 1]])\n",
        "\n",
        "def MatrixTCircuit(Z1, Z2, N, Ym):                              # Retorna a matriz referente ao Transfomador.\n",
        "    # Calculando a matriz a partir da multiplicação do circuito T com transformador ideal.\n",
        "    A = N * (1 + (Ym * Z1))\n",
        "    B = (1/N) * (Z1 + Z2 + (Ym * Z1 * Z2))\n",
        "    C = N * (Ym)\n",
        "    D = (1/N) * (1 + (Ym * Z2))\n",
        "\n",
        "    return np.array([[A, B], [C, D]])\n",
        "\n",
        "def MatrixRCircuit(Z, Y_L):                                     # Retorna a matriz referente a linha de transmissão.\n",
        "    A = (1 + ((Z * Y_L) / 2))\n",
        "    B = Z\n",
        "    C = (Y_L + ((Z * Y_L**2) / 4))\n",
        "    D = (1 + ((Z * Y_L) / 2))\n",
        "\n",
        "    return np.array([[A, B], [C, D]])\n",
        "\n",
        "def MatrizParallelCircuit(Matrix_1, Matrix_2):                  # Retorna a Matriz de associação em pararelo de dois circuitos.\n",
        "    A1, B1, C1, D1 = Matrix_1[0,0], Matrix_1[0,1], Matrix_1[1,0], Matrix_1[1,1]\n",
        "    A2, B2, C2, D2 = Matrix_2[0,0], Matrix_2[0,1], Matrix_2[1,0], Matrix_2[1,1]\n",
        "    # Calculando a matriz para circuitos paralelos.\n",
        "    A = (((A1 * B2) + (A2 * B1)) / (B1 + B2))\n",
        "    B = ((B1 * B2) / (B1 + B2))\n",
        "    C = (C1 + C2 + (((A1 - A2) * (D2 - D1)) / (B1 + B2)))\n",
        "    D = (((B2 * D1) + (B1 * D2)) / (B1 + B2))\n",
        "\n",
        "    return np.array([[A, B], [C, D]])\n",
        "\n",
        "def MatrizCascadeCircuits(matrix):\n",
        "    result = matrix[0]\n",
        "    for m in range(len(matrix) - 1):\n",
        "        result = np.dot(result, matrix[m+1])\n",
        "    return result\n",
        "\n",
        "# Tranformando em forma polar para pegar o fasorial.\n",
        "def fasor(v):\n",
        "    return f'{np.abs(v):.2f}∠{np.angle(v, deg=True):.4f}°'\n"
      ]
    },
    {
      "cell_type": "markdown",
      "metadata": {
        "id": "-VuJu2oQ_fhj"
      },
      "source": [
        "### Questão 1\n",
        "\n",
        "<center><img src='https://github.com/brenohmartins/Simulation-of-Electrical-Systems-by-Quadripoles/blob/main/images/SEP.png?raw=true'/></center>\n",
        "\n",
        "Considerando o sistema elétrico da figura acima, no qual está operando com $60 \\text{hz}$, modele o sistema criando as matrizes de transferência $[T]$ a partir dos dados de entrada do modelo que está logo abaixo:\n",
        "\n",
        "**Impedância de Thévenin**\n",
        "- $ R_f = 4 \\Omega$;\n",
        "- $ Xf = 0.38 \\Omega$.\n",
        "\n",
        "**Parâmetros das Linhas de Transmissão**\n",
        "- $\\rho_R = 0.182 \\Omega/km$;\n",
        "- $\\rho_L = 2.28 mH/km$;\n",
        "- $\\rho_C = 0.0140 \\mu F/km$.\n",
        "\n",
        "Considere que as $LT_1 , LT_2 , LT_3$ possuem 100 km, a $LT_4$ e $LT_5$ possui 80km e a $LT_6$ possui 120 km.\n",
        "\n",
        "**Parâmetros comum dos Transformadores**\n",
        "- $R_1 = 7.6m \\Omega$;\n",
        "- $X_1 = 3.8m \\Omega$;\n",
        "- $R_2 = 33.9m \\Omega$;\n",
        "- $X_2 = 0.85m \\Omega$.\n",
        "\n",
        "**Parâmetros individuais dos Transformadores**\n",
        "- Para o Transformador 1:\n",
        "    - $R_{m_1} = 4320 \\Omega$ e $X_{m_1} = 5050 \\Omega$;\n",
        "- Para o Transformador 2:\n",
        "    - $R_{m_2} = 432000 \\Omega$ e $X_{m_2} = 505000 \\Omega$;\n",
        "- Para o Transformador 3:\n",
        "    - $R_{m_3} = 402000 \\Omega$ e $X_{m_3} = 607000 \\Omega$.\n",
        "\n",
        "**Cargas em Derivação**\n",
        "\n",
        "- $R_1 = 8400 \\Omega$ e $L_1 = 46H$;\n",
        "- $R_2 = 1175.55 \\Omega$ e $L_2 = 6.43H$;\n",
        "- $R_3 = 526 \\Omega$ e $L_3 = 2.9H$."
      ]
    },
    {
      "cell_type": "code",
      "execution_count": 32,
      "metadata": {
        "colab": {
          "base_uri": "https://localhost:8080/"
        },
        "id": "mDCgaVVS_fhl",
        "outputId": "e64d1eff-ef71-4f00-ba49-201bcdc86744"
      },
      "outputs": [
        {
          "name": "stdout",
          "output_type": "stream",
          "text": [
            "[[9.64085178e-01+0.16259615j 4.59932720e+00+9.09454221j]\n",
            " [3.01796834e-03+0.03667228j 7.19549147e-01+0.08206635j]]\n"
          ]
        }
      ],
      "source": [
        "# Declaração das variáveis e chamando as funções:\n",
        "\n",
        "w = 2 * np.pi * 60                  # Declaração do nosso omega.\n",
        "\n",
        "# Declaração da Impedância de Thevenin.\n",
        "Rf, Xf = 4, 0.38j\n",
        "Zf = Rf + Xf\n",
        "mImpedances = MatrixSeriesImpedance(Zf)\n",
        "\n",
        "# Parametros comum aos transformadores:\n",
        "R1 = 7.6e-3\n",
        "X1 = 3.8e-3\n",
        "R2 = 33.9e-3\n",
        "X2 = 0.85e-3\n",
        "\n",
        "ZT1 = R1 + (X1 * 1j)\n",
        "ZT2 = R2 + (X2 * 1j)\n",
        "\n",
        "# Declaração do Transformador 1:\n",
        "Rm1 = 4320\n",
        "Xm1 = 5050j\n",
        "N1 = 69/500\n",
        "Y_T1 = ((Rm1 + Xm1) / (Rm1 * Xm1))\n",
        "mT1 = MatrixTCircuit(ZT1, ZT2, N1, Y_T1)\n",
        "\n",
        "# Parametros comum para as linhas de transmissão :\n",
        "RLT = 0.182\n",
        "LLT = w * 2.28e-3 * 1j\n",
        "CLT = w * 0.0140e-6 * 1j\n",
        "ZLT = (RLT + (LLT))\n",
        "Y_L = CLT/2\n",
        "\n",
        "# Parametros da linha de transmissão LT1, LT2.\n",
        "d1 = 100 #km - Distanciamento das linhas de transmissão.\n",
        "mLT1 = MatrixRCircuit(ZLT*d1, Y_L*d1)\n",
        "mLT2 = MatrixRCircuit(ZLT*d1, Y_L*d1)\n",
        "\n",
        "# Parametros da carga Z1.\n",
        "RC1 = 8400\n",
        "LC1 = 46\n",
        "Y1 = (1 / (RC1 + (LC1 * w * 1j)))\n",
        "mZ1 = MarixShuntAdimitance(Y1)\n",
        "\n",
        "# Parametros da linha de transmissão LT3.\n",
        "mLT3 = MatrixRCircuit(ZLT*d1, Y_L*d1)\n",
        "\n",
        "# Declaração do Transformador 2:\n",
        "Rm2 = 432000\n",
        "Xm2 = 505000j\n",
        "N2 = 500/230\n",
        "Y_T2 = ((Rm2 + Xm2) / (Rm2 * Xm2))\n",
        "mT2 = MatrixTCircuit(ZT1, ZT2, N2, Y_T2)\n",
        "\n",
        "# Parametros da carga Z2.\n",
        "RC2 = 1175.55\n",
        "LC2 = 6.43\n",
        "Y2 = (1 / (RC2 + (LC2 * w * 1j)))\n",
        "mZ2 = MarixShuntAdimitance(Y2)\n",
        "\n",
        "# Parametros da linha de transmissão LT4\n",
        "d2 = 80 #km - Distanciamento das linhas de transmissão.\n",
        "mLT4 = MatrixRCircuit(ZLT*d2, Y_L*d2)\n",
        "\n",
        "# Declaração do Transformador 3:\n",
        "Rm3 = 402000\n",
        "Xm3 = 607000j\n",
        "N3 = 230/69\n",
        "Y_T3 = ((Rm3 + Xm3) / (Rm3 * Xm3))\n",
        "mT3 = MatrixTCircuit(ZT1, ZT2, N3, Y_T3)\n",
        "\n",
        "# Parametros da carga Z3.\n",
        "RC3 = 529\n",
        "LC3 = 2.9\n",
        "Y3 = (1 / (RC3 + (LC3 * w * 1j)))\n",
        "mZ3 = MarixShuntAdimitance(Y3)\n",
        "\n",
        "# Associação em pararelo das linhas de Transmissão LT1 e LT2:\n",
        "mLT1T2 = MatrizParallelCircuit(mLT1, mLT1)\n",
        "\n",
        "# Calculando a matriz de tranferência total do circuito:\n",
        "mTotal = np.array([mImpedances, mT1, mLT1T2, mZ1, mLT3, mT2, mZ2, mLT4, mT3])\n",
        "\n",
        "totalM = MatrizCascadeCircuits(mTotal)\n",
        "\n",
        "print(totalM)"
      ]
    },
    {
      "cell_type": "markdown",
      "metadata": {
        "id": "rnZ0FxfH_fhn"
      },
      "source": [
        "## Montagem no Ambiente virtual - *LTSpice*\n",
        "\n",
        "Fazendo uso do modelo apresentado anteriormente para os elementos do sistema de potência, utilizando o simulador *LTSpice* para simular todo o sistema e tornar-se possível a comparação com resultados encontrados na modelagem utilizando a linguagem de programação *Python*.\n",
        "\n",
        "<center><img src='https://github.com/brenohmartins/Simulation-of-Electrical-Systems-by-Quadripoles/blob/main/images/circuit-simulation.png?raw=true'/></center>\n",
        "\n",
        "Para realizar a montagem do modelo ideal de um transformador no simulador foi utilizado a função *\"SPICE Directive\"* na qual simula funções matemáticas em favor de alguns elementos existêntes no circuito, sendo assim utilizado para fazer com que os indutores dos transformadores estejam devidamente acoplados. Logo em seguida está o modelo de um transformador ideal montado no simulador *LTSpice* seguindo o modelo de transformado especificado anteriormente.\n",
        "\n",
        "<center><img src='https://github.com/brenohmartins/Simulation-of-Electrical-Systems-by-Quadripoles/blob/main/images/simulated-transformer.png?raw=true'/></center>\n",
        "\n",
        "Com todos as implementações realizadas no simulador, a modelagem do sistema por quadripolos aprensentou resultados similar a análise por elementos de circuito simulados no *LTSpice*."
      ]
    },
    {
      "cell_type": "markdown",
      "metadata": {
        "id": "MwXTRezF_fhp"
      },
      "source": [
        "### Item 1\n",
        "\n",
        "Obtenha a tensão fasorial de saída $V_{ac}$ e a corrente fasorial na carga $Z_3$ considerando que a tensão no gerador seja de $69 kV_{RMS}$.\n",
        "\n",
        "$R$: Nos quadripolos, a relação entre a tensão e corrente de entrada (lado da fonte) e de saída (lado da carga) é dada por:\n",
        "\n",
        "$$\\begin{bmatrix}\n",
        "V_{fonte}\\\\\n",
        "I_{fonte}\n",
        "\\end{bmatrix} = \\begin{bmatrix}\n",
        "A & B \\\\\n",
        "C & D\n",
        "\\end{bmatrix}\\cdot \\begin{bmatrix}\n",
        "V_{carga}\\\\\n",
        "I_{carga}\n",
        "\\end{bmatrix} $$\n",
        "\n",
        "\n",
        "Sabemos que a corrente e a tensão em ($Z_3$) estão relacionadas por sua **impedância**:\n",
        "\n",
        "$$ I_3 = \\frac{V_3}{Z_3}$$\n",
        "\n",
        "Substituindo $I_3 = \\frac{V_3}{Z_3}$ na equação do quadripolo:\n",
        "\n",
        "$$ V_1 = A \\cdot V_3 + B \\cdot \\frac{V_3}{Z_3} $$\n",
        "\n",
        "Isolando $(V_{3})$:   $$V_3 = \\frac{V_1 \\cdot Z_3}{A \\cdot Z_3 + B} $$"
      ]
    },
    {
      "cell_type": "code",
      "execution_count": 33,
      "metadata": {
        "colab": {
          "base_uri": "https://localhost:8080/"
        },
        "id": "gdzNuJlS_fhp",
        "outputId": "f4ac7dde-900b-4875-a467-59d23e7e14fd"
      },
      "outputs": [
        {
          "name": "stdout",
          "output_type": "stream",
          "text": [
            "Tensão e Corrrente Fasoriais na Carga Z3: \n",
            "• V3 = 69983.26∠-9.4835° V\n",
            "• I3 = 57.62∠-73.6627° A\n"
          ]
        }
      ],
      "source": [
        "# A,B,C,D são os elementos da matriz de transferência total.\n",
        "mA = totalM[0, 0]\n",
        "mB = totalM[0, 1]\n",
        "mC = totalM[1, 0]\n",
        "mD = totalM[1, 1]\n",
        "\n",
        "Vac = 69e3\n",
        "Z3 = 1/Y3\n",
        "VZ3 = (Vac * Z3) / ((mA * Z3) + mB)\n",
        "IZ3 = VZ3/Z3\n",
        "\n",
        "\n",
        "print(f'Tensão e Corrrente Fasoriais na Carga Z3: \\n• V3 = {fasor(VZ3)} V\\n• I3 = {fasor(IZ3)} A')"
      ]
    },
    {
      "cell_type": "markdown",
      "metadata": {
        "id": "kq45EU43_fhr"
      },
      "source": [
        "### Item 2\n",
        "\n",
        "Obtenha a tensão e a corrente fasoriais nas impedâncias $Z_1$ e $Z_2$.\n",
        "\n",
        "$R$: Vamos usar a matriz de transferência total até as cargas que inclui as linhas de transmissão, transformadores e as impedâncias:\n",
        "\n",
        "\n",
        "$$\\begin{bmatrix}\n",
        "V_{fonte}\\\\\n",
        "I_{fonte}\n",
        "\\end{bmatrix} = \\begin{bmatrix}\n",
        "A & B \\\\\n",
        "C & D\n",
        "\\end{bmatrix}\\cdot \\begin{bmatrix}\n",
        "VZ\\\\\n",
        "IZ\n",
        "\\end{bmatrix} $$"
      ]
    },
    {
      "cell_type": "code",
      "execution_count": 34,
      "metadata": {
        "colab": {
          "base_uri": "https://localhost:8080/"
        },
        "id": "JeLKpi3F_fhr",
        "outputId": "4bbeae4c-e94a-4a7a-cb9c-1bed911b64b9"
      },
      "outputs": [
        {
          "name": "stdout",
          "output_type": "stream",
          "text": [
            "VZ1 = 503864.0580 ∠ -6.0320° V\n",
            "IZ1 = 26.1491 ∠ -70.1872° A\n"
          ]
        }
      ],
      "source": [
        "# Calculando os valores de tensão e corrente de Z1:\n",
        "mtotal = np.array([mImpedances, mT1, mLT1T2])\n",
        "mTZ1 = MatrizCascadeCircuits(mtotal)\n",
        "\n",
        "Z1 = 1 / Y1\n",
        "\n",
        "VZ1 = (Z1 * Vac) / (mTZ1[0, 0] * Z1 + mTZ1[0, 1])\n",
        "\n",
        "IZ1 = VZ1 / Z1\n",
        "\n",
        "# Tranformando em forma polar para pegar o fasorial.\n",
        "absVZ1, angVZ1 =  cmath.polar(VZ1)\n",
        "absIZ1, angIZ1 =  cmath.polar(IZ1)\n",
        "\n",
        "angVZ1 = np.rad2deg(angVZ1)\n",
        "angIZ1 = np.rad2deg(angIZ1)\n",
        "\n",
        "print(f\"VZ1 = {absVZ1:.4f} ∠ {angVZ1:.4f}° V\")\n",
        "print(f\"IZ1 = {absIZ1:.4f} ∠ {angIZ1:.4f}° A\")\n",
        "\n"
      ]
    },
    {
      "cell_type": "code",
      "execution_count": 35,
      "metadata": {
        "colab": {
          "base_uri": "https://localhost:8080/"
        },
        "id": "XBjfHubjWVoB",
        "outputId": "ea79b8e6-0ad7-4f13-a61b-645458d2957c"
      },
      "outputs": [
        {
          "name": "stdout",
          "output_type": "stream",
          "text": [
            "VZ2 = 232428.2312 ∠ -8.8363° V\n",
            "IZ2 = 86.2744 ∠ -72.9651° A\n"
          ]
        }
      ],
      "source": [
        "# Calculando os valores de tensão e corrente de Z2:\n",
        "mtotal = np.array([mImpedances, mT1, mLT1T2, mZ1, mLT3, mT2])\n",
        "mTZ2 = MatrizCascadeCircuits(mtotal)\n",
        "\n",
        "Z2 = 1 / Y2\n",
        "\n",
        "VZ2 = (Vac * Z2) / (mTZ2[0, 0] * Z2 + mTZ2[0, 1])\n",
        "\n",
        "IZ2 = VZ2 / Z2\n",
        "\n",
        "# Tranformando em forma polar para pegar o fasorial.\n",
        "absVZ2, angVZ2 =  cmath.polar(VZ2)\n",
        "absIZ2, angIZ2 =  cmath.polar(IZ2)\n",
        "\n",
        "angVZ2 = np.rad2deg(angVZ2)\n",
        "angIZ2 = np.rad2deg(angIZ2)\n",
        "\n",
        "print(f\"VZ2 = {absVZ2:.4f} ∠ {angVZ2:.4f}° V\")\n",
        "print(f\"IZ2 = {absIZ2:.4f} ∠ {angIZ2:.4f}° A\")"
      ]
    },
    {
      "cell_type": "markdown",
      "metadata": {
        "id": "0lhjElTr_fhs"
      },
      "source": [
        "### Item 3\n",
        "\n",
        "Obtenha a potência $Ativa$ e $Reativa$ fornecida pelo Gerador.\n",
        "\n",
        "$R$: A potência ativa refere-se à energia útil, enquanto a potência reativa está associada ao armazenamento temporário de energia nos componentes reativos (indutâncias e capacitâncias).\n",
        "\n",
        "A relação entre potência ativa, reativa e aparente é descrita pelo triângulo de potência:\n",
        "$$ S² = P² + Q² $$\n"
      ]
    },
    {
      "cell_type": "code",
      "execution_count": 36,
      "metadata": {
        "colab": {
          "base_uri": "https://localhost:8080/"
        },
        "id": "DE710_x0_fhs",
        "outputId": "70baff33-78d3-43c5-df2d-9d8fb42dd205"
      },
      "outputs": [
        {
          "name": "stdout",
          "output_type": "stream",
          "text": [
            "A Potência Ativa no gerador é: 175393.3840 kW \n",
            "Potência Reativa é: -90.6163 kVAr\n"
          ]
        }
      ],
      "source": [
        "# Calculando a corrente do gerador:\n",
        "Iac = (mC * VZ3) + (mD * IZ3)\n",
        "\n",
        "Vac = (mA * VZ3) + (mB * IZ3)\n",
        "absIac, angIac =  cmath.polar(Iac)\n",
        "\n",
        "# Calculando a potencia Ativa e Reativa:\n",
        "Sg = Vac * (complex(absIac, - angIac))\n",
        "Pg = Sg.real / pow(10,3)\n",
        "Qg = Sg.imag / pow(10,3) \n",
        "\n",
        "print(f\"A Potência Ativa no gerador é: {Pg:.4f} kW \\nPotência Reativa é: {Qg:.4f} kVAr\")"
      ]
    },
    {
      "cell_type": "markdown",
      "metadata": {
        "id": "4rM2VW5o_fht"
      },
      "source": [
        "### Item 4\n",
        "\n",
        "Obtenha a potência $Ativa$ e $Reativa$ consumida pelas cargas.\n",
        "\n",
        "$R$: A potência ativa refere-se à energia útil, enquanto a potência reativa está associada ao armazenamento temporário de energia nos componentes reativos (indutâncias e capacitâncias).\n",
        "\n",
        "A relação entre potência ativa, reativa e aparente é descrita pelo triângulo de potência:\n",
        "$$ S² = P² + Q² $$"
      ]
    }
  ],
  "metadata": {
    "colab": {
      "provenance": [],
      "toc_visible": true
    },
    "kernelspec": {
      "display_name": "Python 3",
      "language": "python",
      "name": "python3"
    },
    "language_info": {
      "codemirror_mode": {
        "name": "ipython",
        "version": 3
      },
      "file_extension": ".py",
      "mimetype": "text/x-python",
      "name": "python",
      "nbconvert_exporter": "python",
      "pygments_lexer": "ipython3",
      "version": "3.8.10"
    }
  },
  "nbformat": 4,
  "nbformat_minor": 0
}
